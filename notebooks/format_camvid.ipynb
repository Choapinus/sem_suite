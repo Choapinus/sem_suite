{
 "cells": [
  {
   "cell_type": "code",
   "execution_count": 1,
   "metadata": {},
   "outputs": [],
   "source": [
    "# CamVid:\n",
    "# train -> idx.png\n",
    "# train_labels -> idx_L.png\n",
    "# test -> idx.png\n",
    "# test_labels -> idx_L.png\n",
    "# val -> idx.png\n",
    "# val_labels -> idx_L.png\n",
    "# class_dict.csv"
   ]
  },
  {
   "cell_type": "code",
   "execution_count": 2,
   "metadata": {},
   "outputs": [],
   "source": [
    "import os\n",
    "import shutil\n",
    "\n",
    "images_dir = 'opends_camvid/images/'\n",
    "labels_dir = 'opends_camvid/labels/'\n",
    "test_size = .2\n",
    "val_size = test_size\n",
    "train_size = 1 - test_size - val_size"
   ]
  },
  {
   "cell_type": "code",
   "execution_count": 3,
   "metadata": {
    "scrolled": true
   },
   "outputs": [],
   "source": [
    "images_names = sorted(os.listdir(images_dir))\n",
    "labels_names = sorted(os.listdir(labels_dir))\n",
    "\n",
    "images = list(map(lambda x: os.path.join(images_dir, x), images_names))\n",
    "labels = list(map(lambda x: os.path.join(labels_dir, x), labels_names))"
   ]
  },
  {
   "cell_type": "code",
   "execution_count": 4,
   "metadata": {},
   "outputs": [],
   "source": [
    "size = int(len(images)*train_size)\n",
    "train_images = images[:size]\n",
    "train_labels = labels[:size]"
   ]
  },
  {
   "cell_type": "code",
   "execution_count": 5,
   "metadata": {},
   "outputs": [],
   "source": [
    "size = int(len(images)*train_size) + int(len(images)*test_size)\n",
    "test_images = images[len(train_images):size]\n",
    "test_labels = labels[len(train_labels):size]"
   ]
  },
  {
   "cell_type": "code",
   "execution_count": 6,
   "metadata": {},
   "outputs": [],
   "source": [
    "size = int(len(images)*train_size) + int(len(images)*test_size)\n",
    "val_images = images[size:]\n",
    "val_labels = labels[size:]"
   ]
  },
  {
   "cell_type": "code",
   "execution_count": 8,
   "metadata": {},
   "outputs": [
    {
     "data": {
      "text/plain": [
       "'opends_format/class_dict.csv'"
      ]
     },
     "execution_count": 8,
     "metadata": {},
     "output_type": "execute_result"
    }
   ],
   "source": [
    "if os.path.exists('opends_format'):\n",
    "    shutil.rmtree('opends_format')\n",
    "\n",
    "os.makedirs('opends_format/train')\n",
    "os.makedirs('opends_format/train_labels')\n",
    "os.makedirs('opends_format/test')\n",
    "os.makedirs('opends_format/test_labels')\n",
    "os.makedirs('opends_format/val')\n",
    "os.makedirs('opends_format/val_labels')\n",
    "shutil.copyfile('opends_camvid/class_dict.csv', 'opends_format/class_dict.csv')"
   ]
  },
  {
   "cell_type": "code",
   "execution_count": 9,
   "metadata": {},
   "outputs": [],
   "source": [
    "for im, lb in zip(train_images, train_labels):\n",
    "    im_name = im.split('/')[-1]\n",
    "    lb_name = lb.split('/')[-1]\n",
    "    im_dst = os.path.join('opends_format/train', im_name)\n",
    "    lb_dst = os.path.join('opends_format/train_labels', lb_name)\n",
    "    shutil.copyfile(im, im_dst)\n",
    "    shutil.copyfile(lb, lb_dst)"
   ]
  },
  {
   "cell_type": "code",
   "execution_count": 10,
   "metadata": {},
   "outputs": [],
   "source": [
    "for im, lb in zip(test_images, test_labels):\n",
    "    im_name = im.split('/')[-1]\n",
    "    lb_name = lb.split('/')[-1]\n",
    "    im_dst = os.path.join('opends_format/test', im_name)\n",
    "    lb_dst = os.path.join('opends_format/test_labels', lb_name)\n",
    "    shutil.copyfile(im, im_dst)\n",
    "    shutil.copyfile(lb, lb_dst)"
   ]
  },
  {
   "cell_type": "code",
   "execution_count": 11,
   "metadata": {},
   "outputs": [],
   "source": [
    "for im, lb in zip(val_images, val_labels):\n",
    "    im_name = im.split('/')[-1]\n",
    "    lb_name = lb.split('/')[-1]\n",
    "    im_dst = os.path.join('opends_format/val', im_name)\n",
    "    lb_dst = os.path.join('opends_format/val_labels', lb_name)\n",
    "    shutil.copyfile(im, im_dst)\n",
    "    shutil.copyfile(lb, lb_dst)"
   ]
  },
  {
   "cell_type": "code",
   "execution_count": null,
   "metadata": {},
   "outputs": [],
   "source": []
  }
 ],
 "metadata": {
  "kernelspec": {
   "display_name": "Python 3",
   "language": "python",
   "name": "python3"
  },
  "language_info": {
   "codemirror_mode": {
    "name": "ipython",
    "version": 3
   },
   "file_extension": ".py",
   "mimetype": "text/x-python",
   "name": "python",
   "nbconvert_exporter": "python",
   "pygments_lexer": "ipython3",
   "version": "3.7.3"
  }
 },
 "nbformat": 4,
 "nbformat_minor": 2
}
