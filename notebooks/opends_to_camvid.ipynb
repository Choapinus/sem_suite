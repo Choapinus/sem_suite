{
 "cells": [
  {
   "cell_type": "code",
   "execution_count": 11,
   "metadata": {},
   "outputs": [],
   "source": [
    "# CamVid:\n",
    "# train -> idx.png\n",
    "# train_labels -> idx_L.png\n",
    "# test -> idx.png\n",
    "# test_labels -> idx_L.png\n",
    "# val -> idx.png\n",
    "# val_labels -> idx_L.png\n",
    "# class_dict.csv\n",
    "\n",
    "# opends_dataset\n",
    "# train\n",
    "#    images\n",
    "#    labels\n",
    "# test\n",
    "#    images\n",
    "# validation\n",
    "#    images\n",
    "#    labels"
   ]
  },
  {
   "cell_type": "code",
   "execution_count": 1,
   "metadata": {},
   "outputs": [],
   "source": [
    "import os\n",
    "import cv2\n",
    "import shutil\n",
    "import random\n",
    "import colorsys\n",
    "import numpy as np\n",
    "import matplotlib.pyplot as plt\n",
    "%matplotlib inline\n",
    "\n",
    "images_folder = {'train':[], 'validation':[]}\n",
    "labels_folder = {'train':[], 'validation':[]}\n",
    "opends_dir = '/home/choppy/tesis/opends_dataset/sem_dataset'"
   ]
  },
  {
   "cell_type": "code",
   "execution_count": 2,
   "metadata": {},
   "outputs": [],
   "source": [
    "def random_colors(N, bright=True):\n",
    "    brightness = 1.0 if bright else 0.7\n",
    "    hsv = [(i / N, 1, brightness) for i in range(N)]\n",
    "    colors = list(map(lambda c: colorsys.hsv_to_rgb(*c), hsv))\n",
    "    random.shuffle(colors)\n",
    "    return colors # rgb\n",
    "\n",
    "def get_masks(labels):\n",
    "    uniques = np.unique(labels)\n",
    "    ret_masks = []\n",
    "    \n",
    "    for i in uniques:\n",
    "        mask = np.zeros(labels.shape, dtype=np.uint8)\n",
    "        rr, cc = np.where(labels == i)\n",
    "        mask[rr, cc] = 1\n",
    "        ret_masks.append(mask)\n",
    "        \n",
    "    return np.array(ret_masks), uniques\n",
    "\n",
    "def apply_mask(im, mask, color, alpha=.5):\n",
    "    image = im.copy()\n",
    "    ret_color = []\n",
    "    \n",
    "    for c in range(3): # channel\n",
    "        ccolor = int((1 - alpha) + alpha * color[c] * 255)\n",
    "        ret_color.append(ccolor)\n",
    "        image[:,:,c] = np.where(\n",
    "            mask == 1,\n",
    "            ccolor,\n",
    "            image[:,:,c]\n",
    "        )\n",
    "\n",
    "    return image, ret_color"
   ]
  },
  {
   "cell_type": "code",
   "execution_count": 3,
   "metadata": {},
   "outputs": [
    {
     "name": "stdout",
     "output_type": "stream",
     "text": [
      "/home/choppy/tesis/opends_dataset/sem_dataset/train/images/000000002610.png\n"
     ]
    }
   ],
   "source": [
    "# images\n",
    "images_dirs = []\n",
    "\n",
    "for fold_name in images_folder.keys():\n",
    "    images_dirs.append(os.path.join(opends_dir, fold_name, 'images'))\n",
    "\n",
    "for ddir in images_dirs:\n",
    "    image_list = sorted(os.listdir(ddir))\n",
    "    folder_name = ddir.split('/')[-2]\n",
    "    images_folder[folder_name] = list(map(lambda x: os.path.join(ddir, x), image_list))\n",
    "\n",
    "print(images_folder['train'][0])"
   ]
  },
  {
   "cell_type": "code",
   "execution_count": 4,
   "metadata": {},
   "outputs": [
    {
     "name": "stdout",
     "output_type": "stream",
     "text": [
      "/home/choppy/tesis/opends_dataset/sem_dataset/train/labels/000000002610.npy\n"
     ]
    }
   ],
   "source": [
    "# labels\n",
    "labels_dirs = []\n",
    "\n",
    "for fold_name in labels_folder.keys():\n",
    "    labels_dirs.append(os.path.join(opends_dir, fold_name, 'labels'))\n",
    "\n",
    "for ddir in labels_dirs:\n",
    "    labels_list = sorted(os.listdir(ddir))\n",
    "    folder_name = ddir.split('/')[-2]\n",
    "    labels_folder[folder_name] = list(map(lambda x: os.path.join(ddir, x), labels_list))\n",
    "\n",
    "print(labels_folder['train'][0])"
   ]
  },
  {
   "cell_type": "code",
   "execution_count": 20,
   "metadata": {},
   "outputs": [],
   "source": [
    "def get_data(image_dir, label_dir):\n",
    "    image = cv2.imread(image_dir)\n",
    "    label = np.load(label_dir)\n",
    "    return image, label\n",
    "\n",
    "if os.path.exists('./opends_camvid'):\n",
    "    shutil.rmtree('./opends_camvid')    \n",
    "\n",
    "os.makedirs('./opends_camvid/images')\n",
    "os.makedirs('./opends_camvid/labels')\n",
    "    \n",
    "colors = random_colors(4)\n",
    "list_colors = []"
   ]
  },
  {
   "cell_type": "code",
   "execution_count": 21,
   "metadata": {},
   "outputs": [],
   "source": [
    "for key in images_folder.keys():\n",
    "    for i in range(len(images_folder[key])):\n",
    "        im_name = images_folder[key][i].split('/')[-1]\n",
    "        im, label = get_data(images_folder[key][i], labels_folder[key][i])\n",
    "        cv2.imwrite(os.path.join('opends_camvid/images', im_name), im)\n",
    "        masks, _ = get_masks(label)\n",
    "        for m in range(len(masks)):\n",
    "            im, ccolor = apply_mask(im, masks[m], colors[m])\n",
    "            if len(list_colors) < 4: list_colors.append(ccolor)\n",
    "        im_name_label = im_name.split('.')[0]+'_L'+'.png'\n",
    "        cv2.imwrite(os.path.join('opends_camvid/labels', im_name_label), im)"
   ]
  },
  {
   "cell_type": "markdown",
   "metadata": {},
   "source": [
    "\n",
    "TODO:\n",
    "* leer listado de imagenes y labels ## done\n",
    "* aplicar mascaras ## done\n",
    "* guardar imagenes en formato CamVid"
   ]
  },
  {
   "cell_type": "code",
   "execution_count": 22,
   "metadata": {},
   "outputs": [
    {
     "name": "stdout",
     "output_type": "stream",
     "text": [
      "11319\n",
      "11319\n"
     ]
    }
   ],
   "source": [
    "print(len(os.listdir('opends_camvid/images')))\n",
    "print(len(os.listdir('opends_camvid/labels')))"
   ]
  },
  {
   "cell_type": "code",
   "execution_count": 27,
   "metadata": {},
   "outputs": [
    {
     "data": {
      "text/plain": [
       "[[0, 128, 128], [128, 0, 0], [64, 0, 128], [64, 128, 0]]"
      ]
     },
     "execution_count": 27,
     "metadata": {},
     "output_type": "execute_result"
    }
   ],
   "source": [
    "print(list_colors)"
   ]
  },
  {
   "cell_type": "code",
   "execution_count": null,
   "metadata": {},
   "outputs": [],
   "source": [
    "# bg: 0\n",
    "# sclera: 1\n",
    "# iris: 2\n",
    "# pupil: 3"
   ]
  }
 ],
 "metadata": {
  "kernelspec": {
   "display_name": "Python 3",
   "language": "python",
   "name": "python3"
  },
  "language_info": {
   "codemirror_mode": {
    "name": "ipython",
    "version": 3
   },
   "file_extension": ".py",
   "mimetype": "text/x-python",
   "name": "python",
   "nbconvert_exporter": "python",
   "pygments_lexer": "ipython3",
   "version": "3.7.3"
  }
 },
 "nbformat": 4,
 "nbformat_minor": 2
}
