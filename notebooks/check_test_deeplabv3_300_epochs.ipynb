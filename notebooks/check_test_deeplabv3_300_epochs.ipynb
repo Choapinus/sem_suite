{
 "cells": [
  {
   "cell_type": "code",
   "execution_count": 1,
   "metadata": {},
   "outputs": [],
   "source": [
    "import os\n",
    "import pandas as pd\n",
    "import matplotlib.pyplot as plt\n",
    "from skimage.io import imread\n",
    "%matplotlib inline"
   ]
  },
  {
   "cell_type": "code",
   "execution_count": 2,
   "metadata": {},
   "outputs": [],
   "source": [
    "def get_images(df, folder_dir):\n",
    "    im_name = df['test_name'].values[0]\n",
    "    gt = os.path.join(folder_dir, im_name) + '_gt.png'\n",
    "    pred = os.path.join(folder_dir, im_name) + '_pred.png'\n",
    "    return imread(gt), imread(pred)\n",
    "\n",
    "def show_images(im_gt, im_pred):\n",
    "    f, axarr = plt.subplots(1,2)\n",
    "    axarr[0].imshow(im_gt)\n",
    "    axarr[1].imshow(im_pred)"
   ]
  },
  {
   "cell_type": "code",
   "execution_count": 3,
   "metadata": {},
   "outputs": [
    {
     "data": {
      "text/html": [
       "<div>\n",
       "<style scoped>\n",
       "    .dataframe tbody tr th:only-of-type {\n",
       "        vertical-align: middle;\n",
       "    }\n",
       "\n",
       "    .dataframe tbody tr th {\n",
       "        vertical-align: top;\n",
       "    }\n",
       "\n",
       "    .dataframe thead th {\n",
       "        text-align: right;\n",
       "    }\n",
       "</style>\n",
       "<table border=\"1\" class=\"dataframe\">\n",
       "  <thead>\n",
       "    <tr style=\"text-align: right;\">\n",
       "      <th></th>\n",
       "      <th>test_name</th>\n",
       "      <th>test_accuracy</th>\n",
       "      <th>precision</th>\n",
       "      <th>recall</th>\n",
       "      <th>f1 score</th>\n",
       "      <th>mean iou</th>\n",
       "      <th>bg</th>\n",
       "      <th>sclera</th>\n",
       "      <th>iris</th>\n",
       "      <th>pupil</th>\n",
       "    </tr>\n",
       "  </thead>\n",
       "  <tbody>\n",
       "    <tr>\n",
       "      <th>0</th>\n",
       "      <td>000000199487</td>\n",
       "      <td>0.992637</td>\n",
       "      <td>0.992747</td>\n",
       "      <td>0.992637</td>\n",
       "      <td>0.992675</td>\n",
       "      <td>0.951732</td>\n",
       "      <td>0.997844</td>\n",
       "      <td>0.941402</td>\n",
       "      <td>0.977298</td>\n",
       "      <td>0.965929</td>\n",
       "    </tr>\n",
       "    <tr>\n",
       "      <th>1</th>\n",
       "      <td>000000199488</td>\n",
       "      <td>0.992879</td>\n",
       "      <td>0.992944</td>\n",
       "      <td>0.992879</td>\n",
       "      <td>0.992901</td>\n",
       "      <td>0.951855</td>\n",
       "      <td>0.997303</td>\n",
       "      <td>0.948101</td>\n",
       "      <td>0.981280</td>\n",
       "      <td>0.959403</td>\n",
       "    </tr>\n",
       "    <tr>\n",
       "      <th>2</th>\n",
       "      <td>000000199489</td>\n",
       "      <td>0.993328</td>\n",
       "      <td>0.993282</td>\n",
       "      <td>0.993328</td>\n",
       "      <td>0.993248</td>\n",
       "      <td>0.950652</td>\n",
       "      <td>0.995261</td>\n",
       "      <td>0.984247</td>\n",
       "      <td>0.975994</td>\n",
       "      <td>0.986455</td>\n",
       "    </tr>\n",
       "    <tr>\n",
       "      <th>3</th>\n",
       "      <td>000000199490</td>\n",
       "      <td>0.993891</td>\n",
       "      <td>0.993930</td>\n",
       "      <td>0.993891</td>\n",
       "      <td>0.993904</td>\n",
       "      <td>0.959476</td>\n",
       "      <td>0.997882</td>\n",
       "      <td>0.951405</td>\n",
       "      <td>0.980041</td>\n",
       "      <td>0.985794</td>\n",
       "    </tr>\n",
       "    <tr>\n",
       "      <th>4</th>\n",
       "      <td>000000199491</td>\n",
       "      <td>0.994105</td>\n",
       "      <td>0.994086</td>\n",
       "      <td>0.994105</td>\n",
       "      <td>0.994055</td>\n",
       "      <td>0.957856</td>\n",
       "      <td>0.996134</td>\n",
       "      <td>0.984805</td>\n",
       "      <td>0.981722</td>\n",
       "      <td>0.961791</td>\n",
       "    </tr>\n",
       "  </tbody>\n",
       "</table>\n",
       "</div>"
      ],
      "text/plain": [
       "      test_name  test_accuracy  precision    recall  f1 score  mean iou  \\\n",
       "0  000000199487       0.992637   0.992747  0.992637  0.992675  0.951732   \n",
       "1  000000199488       0.992879   0.992944  0.992879  0.992901  0.951855   \n",
       "2  000000199489       0.993328   0.993282  0.993328  0.993248  0.950652   \n",
       "3  000000199490       0.993891   0.993930  0.993891  0.993904  0.959476   \n",
       "4  000000199491       0.994105   0.994086  0.994105  0.994055  0.957856   \n",
       "\n",
       "         bg    sclera      iris     pupil  \n",
       "0  0.997844  0.941402  0.977298  0.965929  \n",
       "1  0.997303  0.948101  0.981280  0.959403  \n",
       "2  0.995261  0.984247  0.975994  0.986455  \n",
       "3  0.997882  0.951405  0.980041  0.985794  \n",
       "4  0.996134  0.984805  0.981722  0.961791  "
      ]
     },
     "execution_count": 3,
     "metadata": {},
     "output_type": "execute_result"
    }
   ],
   "source": [
    "folder_dir = '../test_model_deeplabv3/test_300_epochs_640x400_2263_images/'\n",
    "df = pd.read_csv(os.path.join(folder_dir, 'test_scores.csv'), dtype={'test_name': str})\n",
    "df.rename(columns= lambda x: x.strip(), inplace=True) # algunos nombres de columnas tenian espacios\n",
    "df.head()"
   ]
  },
  {
   "cell_type": "markdown",
   "metadata": {},
   "source": [
    "## Cantidad de imágenes evaluadas"
   ]
  },
  {
   "cell_type": "code",
   "execution_count": 4,
   "metadata": {},
   "outputs": [
    {
     "data": {
      "text/plain": [
       "2263"
      ]
     },
     "execution_count": 4,
     "metadata": {},
     "output_type": "execute_result"
    }
   ],
   "source": [
    "df.shape[0]"
   ]
  },
  {
   "cell_type": "markdown",
   "metadata": {},
   "source": [
    "# mIoU"
   ]
  },
  {
   "cell_type": "code",
   "execution_count": 5,
   "metadata": {},
   "outputs": [
    {
     "data": {
      "text/plain": [
       "0.9257385797613787"
      ]
     },
     "execution_count": 5,
     "metadata": {},
     "output_type": "execute_result"
    }
   ],
   "source": [
    "df['mean iou'].mean()"
   ]
  },
  {
   "cell_type": "markdown",
   "metadata": {},
   "source": [
    "# Min IoU"
   ]
  },
  {
   "cell_type": "code",
   "execution_count": 6,
   "metadata": {},
   "outputs": [
    {
     "data": {
      "text/html": [
       "<div>\n",
       "<style scoped>\n",
       "    .dataframe tbody tr th:only-of-type {\n",
       "        vertical-align: middle;\n",
       "    }\n",
       "\n",
       "    .dataframe tbody tr th {\n",
       "        vertical-align: top;\n",
       "    }\n",
       "\n",
       "    .dataframe thead th {\n",
       "        text-align: right;\n",
       "    }\n",
       "</style>\n",
       "<table border=\"1\" class=\"dataframe\">\n",
       "  <thead>\n",
       "    <tr style=\"text-align: right;\">\n",
       "      <th></th>\n",
       "      <th>test_name</th>\n",
       "      <th>test_accuracy</th>\n",
       "      <th>precision</th>\n",
       "      <th>recall</th>\n",
       "      <th>f1 score</th>\n",
       "      <th>mean iou</th>\n",
       "      <th>bg</th>\n",
       "      <th>sclera</th>\n",
       "      <th>iris</th>\n",
       "      <th>pupil</th>\n",
       "    </tr>\n",
       "  </thead>\n",
       "  <tbody>\n",
       "    <tr>\n",
       "      <th>1578</th>\n",
       "      <td>000000240750</td>\n",
       "      <td>0.922195</td>\n",
       "      <td>0.910011</td>\n",
       "      <td>0.922195</td>\n",
       "      <td>0.915227</td>\n",
       "      <td>0.299028</td>\n",
       "      <td>0.959824</td>\n",
       "      <td>0.329532</td>\n",
       "      <td>0.121243</td>\n",
       "      <td>0.126984</td>\n",
       "    </tr>\n",
       "  </tbody>\n",
       "</table>\n",
       "</div>"
      ],
      "text/plain": [
       "         test_name  test_accuracy  precision    recall  f1 score  mean iou  \\\n",
       "1578  000000240750       0.922195   0.910011  0.922195  0.915227  0.299028   \n",
       "\n",
       "            bg    sclera      iris     pupil  \n",
       "1578  0.959824  0.329532  0.121243  0.126984  "
      ]
     },
     "execution_count": 6,
     "metadata": {},
     "output_type": "execute_result"
    }
   ],
   "source": [
    "df[df['mean iou'] == df['mean iou'].min()]"
   ]
  },
  {
   "cell_type": "code",
   "execution_count": 7,
   "metadata": {
    "scrolled": true
   },
   "outputs": [
    {
     "data": {
      "image/png": "[encoded data removed]",
      "text/plain": [
       "<Figure size 432x288 with 2 Axes>"
      ]
     },
     "metadata": {
      "needs_background": "light"
     },
     "output_type": "display_data"
    }
   ],
   "source": [
    "min_iou = df[df['mean iou'] == df['mean iou'].min()]\n",
    "im_gt, im_pred = get_images(min_iou, folder_dir)\n",
    "show_images(im_gt, im_pred)"
   ]
  },
  {
   "cell_type": "markdown",
   "metadata": {},
   "source": [
    "# Max IoU"
   ]
  },
  {
   "cell_type": "code",
   "execution_count": 8,
   "metadata": {
    "scrolled": true
   },
   "outputs": [
    {
     "data": {
      "text/html": [
       "<div>\n",
       "<style scoped>\n",
       "    .dataframe tbody tr th:only-of-type {\n",
       "        vertical-align: middle;\n",
       "    }\n",
       "\n",
       "    .dataframe tbody tr th {\n",
       "        vertical-align: top;\n",
       "    }\n",
       "\n",
       "    .dataframe thead th {\n",
       "        text-align: right;\n",
       "    }\n",
       "</style>\n",
       "<table border=\"1\" class=\"dataframe\">\n",
       "  <thead>\n",
       "    <tr style=\"text-align: right;\">\n",
       "      <th></th>\n",
       "      <th>test_name</th>\n",
       "      <th>test_accuracy</th>\n",
       "      <th>precision</th>\n",
       "      <th>recall</th>\n",
       "      <th>f1 score</th>\n",
       "      <th>mean iou</th>\n",
       "      <th>bg</th>\n",
       "      <th>sclera</th>\n",
       "      <th>iris</th>\n",
       "      <th>pupil</th>\n",
       "    </tr>\n",
       "  </thead>\n",
       "  <tbody>\n",
       "    <tr>\n",
       "      <th>287</th>\n",
       "      <td>000000207710</td>\n",
       "      <td>0.993699</td>\n",
       "      <td>0.993764</td>\n",
       "      <td>0.993699</td>\n",
       "      <td>0.993719</td>\n",
       "      <td>0.970746</td>\n",
       "      <td>0.997962</td>\n",
       "      <td>0.965974</td>\n",
       "      <td>0.992587</td>\n",
       "      <td>0.972393</td>\n",
       "    </tr>\n",
       "  </tbody>\n",
       "</table>\n",
       "</div>"
      ],
      "text/plain": [
       "        test_name  test_accuracy  precision    recall  f1 score  mean iou  \\\n",
       "287  000000207710       0.993699   0.993764  0.993699  0.993719  0.970746   \n",
       "\n",
       "           bg    sclera      iris     pupil  \n",
       "287  0.997962  0.965974  0.992587  0.972393  "
      ]
     },
     "execution_count": 8,
     "metadata": {},
     "output_type": "execute_result"
    }
   ],
   "source": [
    "df[df['mean iou'] == df['mean iou'].max()]"
   ]
  },
  {
   "cell_type": "code",
   "execution_count": 9,
   "metadata": {},
   "outputs": [
    {
     "data": {
      "image/png": "[encoded data removed]",
      "text/plain": [
       "<Figure size 432x288 with 2 Axes>"
      ]
     },
     "metadata": {
      "needs_background": "light"
     },
     "output_type": "display_data"
    }
   ],
   "source": [
    "max_iou = df[df['mean iou'] == df['mean iou'].max()]\n",
    "im_gt, im_pred = get_images(max_iou, folder_dir)\n",
    "show_images(im_gt, im_pred)"
   ]
  },
  {
   "cell_type": "markdown",
   "metadata": {},
   "source": [
    "# IoU $ \\ge $ 0.50"
   ]
  },
  {
   "cell_type": "code",
   "execution_count": 10,
   "metadata": {},
   "outputs": [
    {
     "name": "stdout",
     "output_type": "stream",
     "text": [
      "Cantidad de imagenes con IoU > 0.50: 2255\n"
     ]
    }
   ],
   "source": [
    "print(f\"Cantidad de imagenes con IoU > 0.50: {df[df['mean iou'] > .5].shape[0]}\")"
   ]
  },
  {
   "cell_type": "markdown",
   "metadata": {},
   "source": [
    "# IoU $ \\ge $ 0.75"
   ]
  },
  {
   "cell_type": "code",
   "execution_count": 11,
   "metadata": {},
   "outputs": [
    {
     "name": "stdout",
     "output_type": "stream",
     "text": [
      "Cantidad de imagenes con IoU > 0.75: 2176\n"
     ]
    }
   ],
   "source": [
    "print(f\"Cantidad de imagenes con IoU > 0.75: {df[df['mean iou'] > .75].shape[0]}\")"
   ]
  },
  {
   "cell_type": "markdown",
   "metadata": {},
   "source": [
    "# IoU $ \\ge $ 0.90"
   ]
  },
  {
   "cell_type": "code",
   "execution_count": 12,
   "metadata": {},
   "outputs": [
    {
     "name": "stdout",
     "output_type": "stream",
     "text": [
      "Cantidad de imagenes con IoU > 0.90: 2026\n"
     ]
    }
   ],
   "source": [
    "print(f\"Cantidad de imagenes con IoU > 0.90: {df[df['mean iou'] > .9].shape[0]}\")"
   ]
  },
  {
   "cell_type": "markdown",
   "metadata": {},
   "source": [
    "# IoU $ \\ge $ 0.95"
   ]
  },
  {
   "cell_type": "code",
   "execution_count": 13,
   "metadata": {},
   "outputs": [
    {
     "name": "stdout",
     "output_type": "stream",
     "text": [
      "Cantidad de imagenes con IoU > 0.95: 863\n"
     ]
    }
   ],
   "source": [
    "print(f\"Cantidad de imagenes con IoU > 0.95: {df[df['mean iou'] > .95].shape[0]}\")"
   ]
  },
  {
   "cell_type": "code",
   "execution_count": null,
   "metadata": {},
   "outputs": [],
   "source": []
  }
 ],
 "metadata": {
  "kernelspec": {
   "display_name": "Python 3",
   "language": "python",
   "name": "python3"
  },
  "language_info": {
   "codemirror_mode": {
    "name": "ipython",
    "version": 3
   },
   "file_extension": ".py",
   "mimetype": "text/x-python",
   "name": "python",
   "nbconvert_exporter": "python",
   "pygments_lexer": "ipython3",
   "version": "3.7.3"
  }
 },
 "nbformat": 4,
 "nbformat_minor": 2
}
