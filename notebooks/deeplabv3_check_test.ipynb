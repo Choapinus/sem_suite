{
 "cells": [
  {
   "cell_type": "code",
   "execution_count": 1,
   "metadata": {},
   "outputs": [],
   "source": [
    "import os\n",
    "import pandas as pd\n",
    "import matplotlib.pyplot as plt\n",
    "from skimage.io import imread\n",
    "%matplotlib inline"
   ]
  },
  {
   "cell_type": "code",
   "execution_count": 2,
   "metadata": {},
   "outputs": [],
   "source": [
    "def get_images(df, folder_dir='../../Test/'):\n",
    "    im_name = df['test_name'].values[0]\n",
    "    gt = os.path.join(folder_dir, im_name) + '_gt.png'\n",
    "    pred = os.path.join(folder_dir, im_name) + '_pred.png'\n",
    "    return imread(gt), imread(pred)\n",
    "\n",
    "def show_images(im_gt, im_pred):\n",
    "    f, axarr = plt.subplots(1,2)\n",
    "    axarr[0].imshow(im_gt)\n",
    "    axarr[1].imshow(im_pred)"
   ]
  },
  {
   "cell_type": "code",
   "execution_count": 3,
   "metadata": {},
   "outputs": [
    {
     "data": {
      "text/html": [
       "<div>\n",
       "<style scoped>\n",
       "    .dataframe tbody tr th:only-of-type {\n",
       "        vertical-align: middle;\n",
       "    }\n",
       "\n",
       "    .dataframe tbody tr th {\n",
       "        vertical-align: top;\n",
       "    }\n",
       "\n",
       "    .dataframe thead th {\n",
       "        text-align: right;\n",
       "    }\n",
       "</style>\n",
       "<table border=\"1\" class=\"dataframe\">\n",
       "  <thead>\n",
       "    <tr style=\"text-align: right;\">\n",
       "      <th></th>\n",
       "      <th>test_name</th>\n",
       "      <th>test_accuracy</th>\n",
       "      <th>precision</th>\n",
       "      <th>recall</th>\n",
       "      <th>f1 score</th>\n",
       "      <th>mean iou</th>\n",
       "      <th>bg</th>\n",
       "      <th>sclera</th>\n",
       "      <th>iris</th>\n",
       "      <th>pupil</th>\n",
       "    </tr>\n",
       "  </thead>\n",
       "  <tbody>\n",
       "    <tr>\n",
       "      <th>0</th>\n",
       "      <td>000000199487</td>\n",
       "      <td>0.992781</td>\n",
       "      <td>0.992920</td>\n",
       "      <td>0.992781</td>\n",
       "      <td>0.992829</td>\n",
       "      <td>0.952276</td>\n",
       "      <td>0.998294</td>\n",
       "      <td>0.941590</td>\n",
       "      <td>0.973470</td>\n",
       "      <td>0.969516</td>\n",
       "    </tr>\n",
       "    <tr>\n",
       "      <th>1</th>\n",
       "      <td>000000199488</td>\n",
       "      <td>0.992598</td>\n",
       "      <td>0.992683</td>\n",
       "      <td>0.992598</td>\n",
       "      <td>0.992628</td>\n",
       "      <td>0.957035</td>\n",
       "      <td>0.997366</td>\n",
       "      <td>0.943082</td>\n",
       "      <td>0.978940</td>\n",
       "      <td>0.980896</td>\n",
       "    </tr>\n",
       "    <tr>\n",
       "      <th>2</th>\n",
       "      <td>000000199489</td>\n",
       "      <td>0.992781</td>\n",
       "      <td>0.992734</td>\n",
       "      <td>0.992781</td>\n",
       "      <td>0.992677</td>\n",
       "      <td>0.942008</td>\n",
       "      <td>0.996031</td>\n",
       "      <td>0.975587</td>\n",
       "      <td>0.965504</td>\n",
       "      <td>0.974778</td>\n",
       "    </tr>\n",
       "    <tr>\n",
       "      <th>3</th>\n",
       "      <td>000000199490</td>\n",
       "      <td>0.994496</td>\n",
       "      <td>0.994567</td>\n",
       "      <td>0.994496</td>\n",
       "      <td>0.994520</td>\n",
       "      <td>0.961329</td>\n",
       "      <td>0.998517</td>\n",
       "      <td>0.951763</td>\n",
       "      <td>0.982389</td>\n",
       "      <td>0.967529</td>\n",
       "    </tr>\n",
       "    <tr>\n",
       "      <th>4</th>\n",
       "      <td>000000199491</td>\n",
       "      <td>0.993895</td>\n",
       "      <td>0.993988</td>\n",
       "      <td>0.993895</td>\n",
       "      <td>0.993928</td>\n",
       "      <td>0.951486</td>\n",
       "      <td>0.998558</td>\n",
       "      <td>0.950302</td>\n",
       "      <td>0.980731</td>\n",
       "      <td>0.934925</td>\n",
       "    </tr>\n",
       "  </tbody>\n",
       "</table>\n",
       "</div>"
      ],
      "text/plain": [
       "      test_name   test_accuracy   precision    recall   f1 score   mean iou  \\\n",
       "0  000000199487        0.992781    0.992920  0.992781   0.992829   0.952276   \n",
       "1  000000199488        0.992598    0.992683  0.992598   0.992628   0.957035   \n",
       "2  000000199489        0.992781    0.992734  0.992781   0.992677   0.942008   \n",
       "3  000000199490        0.994496    0.994567  0.994496   0.994520   0.961329   \n",
       "4  000000199491        0.993895    0.993988  0.993895   0.993928   0.951486   \n",
       "\n",
       "         bg    sclera      iris     pupil  \n",
       "0  0.998294  0.941590  0.973470  0.969516  \n",
       "1  0.997366  0.943082  0.978940  0.980896  \n",
       "2  0.996031  0.975587  0.965504  0.974778  \n",
       "3  0.998517  0.951763  0.982389  0.967529  \n",
       "4  0.998558  0.950302  0.980731  0.934925  "
      ]
     },
     "execution_count": 3,
     "metadata": {},
     "output_type": "execute_result"
    }
   ],
   "source": [
    "folder_dir = '../../Test/'\n",
    "df = pd.read_csv(os.path.join(folder_dir, 'test_scores.csv'), dtype={'test_name': str})\n",
    "df.head()"
   ]
  },
  {
   "cell_type": "markdown",
   "metadata": {},
   "source": [
    "## 2.263 imágenes"
   ]
  },
  {
   "cell_type": "code",
   "execution_count": 4,
   "metadata": {},
   "outputs": [
    {
     "data": {
      "text/plain": [
       "(2263, 10)"
      ]
     },
     "execution_count": 4,
     "metadata": {},
     "output_type": "execute_result"
    }
   ],
   "source": [
    "df.shape"
   ]
  },
  {
   "cell_type": "code",
   "execution_count": 5,
   "metadata": {},
   "outputs": [
    {
     "data": {
      "text/plain": [
       "array(['test_name', 'test_accuracy', 'precision', 'recall', 'f1 score',\n",
       "       'mean iou', 'bg', 'sclera', 'iris', 'pupil'], dtype=object)"
      ]
     },
     "execution_count": 5,
     "metadata": {},
     "output_type": "execute_result"
    }
   ],
   "source": [
    "df.rename(columns= lambda x: x.strip(), inplace=True) # algunos nombres de columnas tenian espacios\n",
    "df.columns.values"
   ]
  },
  {
   "cell_type": "markdown",
   "metadata": {},
   "source": [
    "# mIoU"
   ]
  },
  {
   "cell_type": "code",
   "execution_count": 6,
   "metadata": {},
   "outputs": [
    {
     "data": {
      "text/plain": [
       "0.9277951581970837"
      ]
     },
     "execution_count": 6,
     "metadata": {},
     "output_type": "execute_result"
    }
   ],
   "source": [
    "df['mean iou'].mean()"
   ]
  },
  {
   "cell_type": "markdown",
   "metadata": {},
   "source": [
    "# Min IoU"
   ]
  },
  {
   "cell_type": "code",
   "execution_count": 7,
   "metadata": {},
   "outputs": [
    {
     "data": {
      "text/html": [
       "<div>\n",
       "<style scoped>\n",
       "    .dataframe tbody tr th:only-of-type {\n",
       "        vertical-align: middle;\n",
       "    }\n",
       "\n",
       "    .dataframe tbody tr th {\n",
       "        vertical-align: top;\n",
       "    }\n",
       "\n",
       "    .dataframe thead th {\n",
       "        text-align: right;\n",
       "    }\n",
       "</style>\n",
       "<table border=\"1\" class=\"dataframe\">\n",
       "  <thead>\n",
       "    <tr style=\"text-align: right;\">\n",
       "      <th></th>\n",
       "      <th>test_name</th>\n",
       "      <th>test_accuracy</th>\n",
       "      <th>precision</th>\n",
       "      <th>recall</th>\n",
       "      <th>f1 score</th>\n",
       "      <th>mean iou</th>\n",
       "      <th>bg</th>\n",
       "      <th>sclera</th>\n",
       "      <th>iris</th>\n",
       "      <th>pupil</th>\n",
       "    </tr>\n",
       "  </thead>\n",
       "  <tbody>\n",
       "    <tr>\n",
       "      <th>1578</th>\n",
       "      <td>000000240750</td>\n",
       "      <td>0.904781</td>\n",
       "      <td>0.88362</td>\n",
       "      <td>0.904781</td>\n",
       "      <td>0.892783</td>\n",
       "      <td>0.28808</td>\n",
       "      <td>0.940136</td>\n",
       "      <td>0.315682</td>\n",
       "      <td>0.193072</td>\n",
       "      <td>0.111111</td>\n",
       "    </tr>\n",
       "  </tbody>\n",
       "</table>\n",
       "</div>"
      ],
      "text/plain": [
       "         test_name  test_accuracy  precision    recall  f1 score  mean iou  \\\n",
       "1578  000000240750       0.904781    0.88362  0.904781  0.892783   0.28808   \n",
       "\n",
       "            bg    sclera      iris     pupil  \n",
       "1578  0.940136  0.315682  0.193072  0.111111  "
      ]
     },
     "execution_count": 7,
     "metadata": {},
     "output_type": "execute_result"
    }
   ],
   "source": [
    "df[df['mean iou'] == df['mean iou'].min()]"
   ]
  },
  {
   "cell_type": "code",
   "execution_count": 8,
   "metadata": {
    "scrolled": true
   },
   "outputs": [
    {
     "data": {
      "image/png": "[encoded data removed]",
      "text/plain": [
       "<Figure size 432x288 with 2 Axes>"
      ]
     },
     "metadata": {
      "needs_background": "light"
     },
     "output_type": "display_data"
    }
   ],
   "source": [
    "min_iou = df[df['mean iou'] == df['mean iou'].min()]\n",
    "im_gt, im_pred = get_images(min_iou)\n",
    "show_images(im_gt, im_pred)"
   ]
  },
  {
   "cell_type": "markdown",
   "metadata": {},
   "source": [
    "# Max IoU"
   ]
  },
  {
   "cell_type": "code",
   "execution_count": 9,
   "metadata": {
    "scrolled": true
   },
   "outputs": [
    {
     "data": {
      "text/html": [
       "<div>\n",
       "<style scoped>\n",
       "    .dataframe tbody tr th:only-of-type {\n",
       "        vertical-align: middle;\n",
       "    }\n",
       "\n",
       "    .dataframe tbody tr th {\n",
       "        vertical-align: top;\n",
       "    }\n",
       "\n",
       "    .dataframe thead th {\n",
       "        text-align: right;\n",
       "    }\n",
       "</style>\n",
       "<table border=\"1\" class=\"dataframe\">\n",
       "  <thead>\n",
       "    <tr style=\"text-align: right;\">\n",
       "      <th></th>\n",
       "      <th>test_name</th>\n",
       "      <th>test_accuracy</th>\n",
       "      <th>precision</th>\n",
       "      <th>recall</th>\n",
       "      <th>f1 score</th>\n",
       "      <th>mean iou</th>\n",
       "      <th>bg</th>\n",
       "      <th>sclera</th>\n",
       "      <th>iris</th>\n",
       "      <th>pupil</th>\n",
       "    </tr>\n",
       "  </thead>\n",
       "  <tbody>\n",
       "    <tr>\n",
       "      <th>1761</th>\n",
       "      <td>000000248844</td>\n",
       "      <td>0.993687</td>\n",
       "      <td>0.993761</td>\n",
       "      <td>0.993687</td>\n",
       "      <td>0.993697</td>\n",
       "      <td>0.972208</td>\n",
       "      <td>0.998086</td>\n",
       "      <td>0.983836</td>\n",
       "      <td>0.96499</td>\n",
       "      <td>0.9968</td>\n",
       "    </tr>\n",
       "  </tbody>\n",
       "</table>\n",
       "</div>"
      ],
      "text/plain": [
       "         test_name  test_accuracy  precision    recall  f1 score  mean iou  \\\n",
       "1761  000000248844       0.993687   0.993761  0.993687  0.993697  0.972208   \n",
       "\n",
       "            bg    sclera     iris   pupil  \n",
       "1761  0.998086  0.983836  0.96499  0.9968  "
      ]
     },
     "execution_count": 9,
     "metadata": {},
     "output_type": "execute_result"
    }
   ],
   "source": [
    "df[df['mean iou'] == df['mean iou'].max()]"
   ]
  },
  {
   "cell_type": "code",
   "execution_count": 10,
   "metadata": {},
   "outputs": [
    {
     "data": {
      "image/png": "[encoded data removed]",
      "text/plain": [
       "<Figure size 432x288 with 2 Axes>"
      ]
     },
     "metadata": {
      "needs_background": "light"
     },
     "output_type": "display_data"
    }
   ],
   "source": [
    "max_iou = df[df['mean iou'] == df['mean iou'].max()]\n",
    "im_gt, im_pred = get_images(max_iou)\n",
    "show_images(im_gt, im_pred)"
   ]
  },
  {
   "cell_type": "markdown",
   "metadata": {},
   "source": [
    "# IoU $ \\ge $ 0.5"
   ]
  },
  {
   "cell_type": "code",
   "execution_count": 11,
   "metadata": {},
   "outputs": [
    {
     "data": {
      "text/plain": [
       "2256"
      ]
     },
     "execution_count": 11,
     "metadata": {},
     "output_type": "execute_result"
    }
   ],
   "source": [
    "print(f\"Cantidad de imagenes con IoU > 0.75: {df[df['mean iou'] > .5].shape[0]}\")"
   ]
  },
  {
   "cell_type": "markdown",
   "metadata": {},
   "source": [
    "# IoU $ \\ge $ 0.75"
   ]
  },
  {
   "cell_type": "code",
   "execution_count": 17,
   "metadata": {},
   "outputs": [
    {
     "name": "stdout",
     "output_type": "stream",
     "text": [
      "Cantidad de imagenes con iou > 0.75: 2171\n"
     ]
    }
   ],
   "source": [
    "print(f\"Cantidad de imagenes con IoU > 0.75: {df[df['mean iou'] > .75].shape[0]}\")"
   ]
  },
  {
   "cell_type": "markdown",
   "metadata": {},
   "source": [
    "# IoU $ \\ge $ 0.90"
   ]
  },
  {
   "cell_type": "code",
   "execution_count": 16,
   "metadata": {},
   "outputs": [
    {
     "name": "stdout",
     "output_type": "stream",
     "text": [
      "Cantidad de imagenes con iou > 0.90: 2044\n"
     ]
    }
   ],
   "source": [
    "print(f\"Cantidad de imagenes con IoU > 0.90: {df[df['mean iou'] > .9].shape[0]}\")"
   ]
  },
  {
   "cell_type": "markdown",
   "metadata": {},
   "source": [
    "# IoU $ \\ge $ 0.95"
   ]
  },
  {
   "cell_type": "code",
   "execution_count": 15,
   "metadata": {},
   "outputs": [
    {
     "name": "stdout",
     "output_type": "stream",
     "text": [
      "Cantidad de imagenes con iou > 0.95: 935\n"
     ]
    }
   ],
   "source": [
    "print(f\"Cantidad de imagenes con IoU > 0.95: {df[df['mean iou'] > .95].shape[0]}\")"
   ]
  },
  {
   "cell_type": "code",
   "execution_count": null,
   "metadata": {},
   "outputs": [],
   "source": []
  }
 ],
 "metadata": {
  "kernelspec": {
   "display_name": "Python 3",
   "language": "python",
   "name": "python3"
  },
  "language_info": {
   "codemirror_mode": {
    "name": "ipython",
    "version": 3
   },
   "file_extension": ".py",
   "mimetype": "text/x-python",
   "name": "python",
   "nbconvert_exporter": "python",
   "pygments_lexer": "ipython3",
   "version": "3.7.3"
  }
 },
 "nbformat": 4,
 "nbformat_minor": 2
}
