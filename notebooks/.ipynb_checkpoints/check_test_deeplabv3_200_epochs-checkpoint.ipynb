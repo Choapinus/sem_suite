{
 "cells": [
  {
   "cell_type": "code",
   "execution_count": 1,
   "metadata": {},
   "outputs": [],
   "source": [
    "import os\n",
    "import pandas as pd\n",
    "import matplotlib.pyplot as plt\n",
    "from skimage.io import imread\n",
    "%matplotlib inline"
   ]
  },
  {
   "cell_type": "code",
   "execution_count": 2,
   "metadata": {},
   "outputs": [],
   "source": [
    "def get_images(df, folder_dir):\n",
    "    im_name = df['test_name'].values[0]\n",
    "    gt = os.path.join(folder_dir, im_name) + '_gt.png'\n",
    "    pred = os.path.join(folder_dir, im_name) + '_pred.png'\n",
    "    return imread(gt), imread(pred)\n",
    "\n",
    "def show_images(im_gt, im_pred):\n",
    "    f, axarr = plt.subplots(1,2)\n",
    "    axarr[0].imshow(im_gt)\n",
    "    axarr[1].imshow(im_pred)"
   ]
  },
  {
   "cell_type": "code",
   "execution_count": 3,
   "metadata": {},
   "outputs": [
    {
     "name": "stdout",
     "output_type": "stream",
     "text": [
      "ls: cannot access '../test_200_epochs_640x400_2263_images/': No such file or directory\r\n"
     ]
    }
   ],
   "source": [
    "!ls ../test_200_epochs_640x400_2263_images/ | grep test"
   ]
  },
  {
   "cell_type": "code",
   "execution_count": 4,
   "metadata": {},
   "outputs": [
    {
     "data": {
      "text/html": [
       "<div>\n",
       "<style scoped>\n",
       "    .dataframe tbody tr th:only-of-type {\n",
       "        vertical-align: middle;\n",
       "    }\n",
       "\n",
       "    .dataframe tbody tr th {\n",
       "        vertical-align: top;\n",
       "    }\n",
       "\n",
       "    .dataframe thead th {\n",
       "        text-align: right;\n",
       "    }\n",
       "</style>\n",
       "<table border=\"1\" class=\"dataframe\">\n",
       "  <thead>\n",
       "    <tr style=\"text-align: right;\">\n",
       "      <th></th>\n",
       "      <th>test_name</th>\n",
       "      <th>test_accuracy</th>\n",
       "      <th>precision</th>\n",
       "      <th>recall</th>\n",
       "      <th>f1 score</th>\n",
       "      <th>mean iou</th>\n",
       "      <th>bg</th>\n",
       "      <th>sclera</th>\n",
       "      <th>iris</th>\n",
       "      <th>pupil</th>\n",
       "    </tr>\n",
       "  </thead>\n",
       "  <tbody>\n",
       "    <tr>\n",
       "      <th>0</th>\n",
       "      <td>000000199487</td>\n",
       "      <td>0.992496</td>\n",
       "      <td>0.992681</td>\n",
       "      <td>0.992496</td>\n",
       "      <td>0.992556</td>\n",
       "      <td>0.949366</td>\n",
       "      <td>0.998172</td>\n",
       "      <td>0.931918</td>\n",
       "      <td>0.979186</td>\n",
       "      <td>0.970711</td>\n",
       "    </tr>\n",
       "    <tr>\n",
       "      <th>1</th>\n",
       "      <td>000000199488</td>\n",
       "      <td>0.993121</td>\n",
       "      <td>0.993254</td>\n",
       "      <td>0.993121</td>\n",
       "      <td>0.993163</td>\n",
       "      <td>0.955522</td>\n",
       "      <td>0.997884</td>\n",
       "      <td>0.939779</td>\n",
       "      <td>0.982967</td>\n",
       "      <td>0.979701</td>\n",
       "    </tr>\n",
       "    <tr>\n",
       "      <th>2</th>\n",
       "      <td>000000199489</td>\n",
       "      <td>0.992895</td>\n",
       "      <td>0.992816</td>\n",
       "      <td>0.992895</td>\n",
       "      <td>0.992804</td>\n",
       "      <td>0.946157</td>\n",
       "      <td>0.995528</td>\n",
       "      <td>0.969415</td>\n",
       "      <td>0.974642</td>\n",
       "      <td>0.993461</td>\n",
       "    </tr>\n",
       "    <tr>\n",
       "      <th>3</th>\n",
       "      <td>000000199490</td>\n",
       "      <td>0.994148</td>\n",
       "      <td>0.994219</td>\n",
       "      <td>0.994148</td>\n",
       "      <td>0.994173</td>\n",
       "      <td>0.958878</td>\n",
       "      <td>0.998576</td>\n",
       "      <td>0.952265</td>\n",
       "      <td>0.974528</td>\n",
       "      <td>0.990360</td>\n",
       "    </tr>\n",
       "    <tr>\n",
       "      <th>4</th>\n",
       "      <td>000000199491</td>\n",
       "      <td>0.993793</td>\n",
       "      <td>0.993805</td>\n",
       "      <td>0.993793</td>\n",
       "      <td>0.993790</td>\n",
       "      <td>0.946386</td>\n",
       "      <td>0.997663</td>\n",
       "      <td>0.968881</td>\n",
       "      <td>0.975679</td>\n",
       "      <td>0.930149</td>\n",
       "    </tr>\n",
       "  </tbody>\n",
       "</table>\n",
       "</div>"
      ],
      "text/plain": [
       "      test_name  test_accuracy  precision    recall  f1 score  mean iou  \\\n",
       "0  000000199487       0.992496   0.992681  0.992496  0.992556  0.949366   \n",
       "1  000000199488       0.993121   0.993254  0.993121  0.993163  0.955522   \n",
       "2  000000199489       0.992895   0.992816  0.992895  0.992804  0.946157   \n",
       "3  000000199490       0.994148   0.994219  0.994148  0.994173  0.958878   \n",
       "4  000000199491       0.993793   0.993805  0.993793  0.993790  0.946386   \n",
       "\n",
       "         bg    sclera      iris     pupil  \n",
       "0  0.998172  0.931918  0.979186  0.970711  \n",
       "1  0.997884  0.939779  0.982967  0.979701  \n",
       "2  0.995528  0.969415  0.974642  0.993461  \n",
       "3  0.998576  0.952265  0.974528  0.990360  \n",
       "4  0.997663  0.968881  0.975679  0.930149  "
      ]
     },
     "execution_count": 4,
     "metadata": {},
     "output_type": "execute_result"
    }
   ],
   "source": [
    "folder_dir = '../test_model_deeplabv3/test_200_epochs_640x400_2263_images/'\n",
    "df = pd.read_csv(os.path.join(folder_dir, 'test_scores.csv'), dtype={'test_name': str})\n",
    "df.rename(columns= lambda x: x.strip(), inplace=True) # algunos nombres de columnas tenian espacios\n",
    "df.head()"
   ]
  },
  {
   "cell_type": "markdown",
   "metadata": {},
   "source": [
    "## Cantidad de imágenes evaluadas"
   ]
  },
  {
   "cell_type": "code",
   "execution_count": 5,
   "metadata": {},
   "outputs": [
    {
     "data": {
      "text/plain": [
       "2263"
      ]
     },
     "execution_count": 5,
     "metadata": {},
     "output_type": "execute_result"
    }
   ],
   "source": [
    "df.shape[0]"
   ]
  },
  {
   "cell_type": "markdown",
   "metadata": {},
   "source": [
    "# mIoU"
   ]
  },
  {
   "cell_type": "code",
   "execution_count": 6,
   "metadata": {},
   "outputs": [
    {
     "data": {
      "text/plain": [
       "0.9253045850640741"
      ]
     },
     "execution_count": 6,
     "metadata": {},
     "output_type": "execute_result"
    }
   ],
   "source": [
    "df['mean iou'].mean()"
   ]
  },
  {
   "cell_type": "markdown",
   "metadata": {},
   "source": [
    "# Min IoU"
   ]
  },
  {
   "cell_type": "code",
   "execution_count": 7,
   "metadata": {},
   "outputs": [
    {
     "data": {
      "text/html": [
       "<div>\n",
       "<style scoped>\n",
       "    .dataframe tbody tr th:only-of-type {\n",
       "        vertical-align: middle;\n",
       "    }\n",
       "\n",
       "    .dataframe tbody tr th {\n",
       "        vertical-align: top;\n",
       "    }\n",
       "\n",
       "    .dataframe thead th {\n",
       "        text-align: right;\n",
       "    }\n",
       "</style>\n",
       "<table border=\"1\" class=\"dataframe\">\n",
       "  <thead>\n",
       "    <tr style=\"text-align: right;\">\n",
       "      <th></th>\n",
       "      <th>test_name</th>\n",
       "      <th>test_accuracy</th>\n",
       "      <th>precision</th>\n",
       "      <th>recall</th>\n",
       "      <th>f1 score</th>\n",
       "      <th>mean iou</th>\n",
       "      <th>bg</th>\n",
       "      <th>sclera</th>\n",
       "      <th>iris</th>\n",
       "      <th>pupil</th>\n",
       "    </tr>\n",
       "  </thead>\n",
       "  <tbody>\n",
       "    <tr>\n",
       "      <th>1578</th>\n",
       "      <td>000000240750</td>\n",
       "      <td>0.935902</td>\n",
       "      <td>0.940198</td>\n",
       "      <td>0.935902</td>\n",
       "      <td>0.933008</td>\n",
       "      <td>0.330247</td>\n",
       "      <td>0.971415</td>\n",
       "      <td>0.353293</td>\n",
       "      <td>0.202921</td>\n",
       "      <td>0.761905</td>\n",
       "    </tr>\n",
       "  </tbody>\n",
       "</table>\n",
       "</div>"
      ],
      "text/plain": [
       "         test_name  test_accuracy  precision    recall  f1 score  mean iou  \\\n",
       "1578  000000240750       0.935902   0.940198  0.935902  0.933008  0.330247   \n",
       "\n",
       "            bg    sclera      iris     pupil  \n",
       "1578  0.971415  0.353293  0.202921  0.761905  "
      ]
     },
     "execution_count": 7,
     "metadata": {},
     "output_type": "execute_result"
    }
   ],
   "source": [
    "df[df['mean iou'] == df['mean iou'].min()]"
   ]
  },
  {
   "cell_type": "code",
   "execution_count": 8,
   "metadata": {
    "scrolled": true
   },
   "outputs": [
    {
     "data": {
      "image/png": "[encoded data removed]",
      "text/plain": [
       "<Figure size 432x288 with 2 Axes>"
      ]
     },
     "metadata": {
      "needs_background": "light"
     },
     "output_type": "display_data"
    }
   ],
   "source": [
    "min_iou = df[df['mean iou'] == df['mean iou'].min()]\n",
    "im_gt, im_pred = get_images(min_iou, folder_dir)\n",
    "show_images(im_gt, im_pred)"
   ]
  },
  {
   "cell_type": "markdown",
   "metadata": {},
   "source": [
    "# Max IoU"
   ]
  },
  {
   "cell_type": "code",
   "execution_count": 9,
   "metadata": {
    "scrolled": true
   },
   "outputs": [
    {
     "data": {
      "text/html": [
       "<div>\n",
       "<style scoped>\n",
       "    .dataframe tbody tr th:only-of-type {\n",
       "        vertical-align: middle;\n",
       "    }\n",
       "\n",
       "    .dataframe tbody tr th {\n",
       "        vertical-align: top;\n",
       "    }\n",
       "\n",
       "    .dataframe thead th {\n",
       "        text-align: right;\n",
       "    }\n",
       "</style>\n",
       "<table border=\"1\" class=\"dataframe\">\n",
       "  <thead>\n",
       "    <tr style=\"text-align: right;\">\n",
       "      <th></th>\n",
       "      <th>test_name</th>\n",
       "      <th>test_accuracy</th>\n",
       "      <th>precision</th>\n",
       "      <th>recall</th>\n",
       "      <th>f1 score</th>\n",
       "      <th>mean iou</th>\n",
       "      <th>bg</th>\n",
       "      <th>sclera</th>\n",
       "      <th>iris</th>\n",
       "      <th>pupil</th>\n",
       "    </tr>\n",
       "  </thead>\n",
       "  <tbody>\n",
       "    <tr>\n",
       "      <th>2066</th>\n",
       "      <td>000000259739</td>\n",
       "      <td>0.994305</td>\n",
       "      <td>0.994327</td>\n",
       "      <td>0.994305</td>\n",
       "      <td>0.99431</td>\n",
       "      <td>0.973277</td>\n",
       "      <td>0.997394</td>\n",
       "      <td>0.971266</td>\n",
       "      <td>0.990719</td>\n",
       "      <td>0.995197</td>\n",
       "    </tr>\n",
       "  </tbody>\n",
       "</table>\n",
       "</div>"
      ],
      "text/plain": [
       "         test_name  test_accuracy  precision    recall  f1 score  mean iou  \\\n",
       "2066  000000259739       0.994305   0.994327  0.994305   0.99431  0.973277   \n",
       "\n",
       "            bg    sclera      iris     pupil  \n",
       "2066  0.997394  0.971266  0.990719  0.995197  "
      ]
     },
     "execution_count": 9,
     "metadata": {},
     "output_type": "execute_result"
    }
   ],
   "source": [
    "df[df['mean iou'] == df['mean iou'].max()]"
   ]
  },
  {
   "cell_type": "code",
   "execution_count": 10,
   "metadata": {},
   "outputs": [
    {
     "data": {
      "image/png": "[encoded data removed]",
      "text/plain": [
       "<Figure size 432x288 with 2 Axes>"
      ]
     },
     "metadata": {
      "needs_background": "light"
     },
     "output_type": "display_data"
    }
   ],
   "source": [
    "max_iou = df[df['mean iou'] == df['mean iou'].max()]\n",
    "im_gt, im_pred = get_images(max_iou, folder_dir)\n",
    "show_images(im_gt, im_pred)"
   ]
  },
  {
   "cell_type": "markdown",
   "metadata": {},
   "source": [
    "# IoU $ \\ge $ 0.50"
   ]
  },
  {
   "cell_type": "code",
   "execution_count": 11,
   "metadata": {},
   "outputs": [
    {
     "name": "stdout",
     "output_type": "stream",
     "text": [
      "Cantidad de imagenes con IoU > 0.50: 2248\n"
     ]
    }
   ],
   "source": [
    "print(f\"Cantidad de imagenes con IoU > 0.50: {df[df['mean iou'] > .5].shape[0]}\")"
   ]
  },
  {
   "cell_type": "markdown",
   "metadata": {},
   "source": [
    "# IoU $ \\ge $ 0.75"
   ]
  },
  {
   "cell_type": "code",
   "execution_count": 12,
   "metadata": {},
   "outputs": [
    {
     "name": "stdout",
     "output_type": "stream",
     "text": [
      "Cantidad de imagenes con IoU > 0.75: 2162\n"
     ]
    }
   ],
   "source": [
    "print(f\"Cantidad de imagenes con IoU > 0.75: {df[df['mean iou'] > .75].shape[0]}\")"
   ]
  },
  {
   "cell_type": "markdown",
   "metadata": {},
   "source": [
    "# IoU $ \\ge $ 0.90"
   ]
  },
  {
   "cell_type": "code",
   "execution_count": 13,
   "metadata": {},
   "outputs": [
    {
     "name": "stdout",
     "output_type": "stream",
     "text": [
      "Cantidad de imagenes con IoU > 0.90: 2045\n"
     ]
    }
   ],
   "source": [
    "print(f\"Cantidad de imagenes con IoU > 0.90: {df[df['mean iou'] > .9].shape[0]}\")"
   ]
  },
  {
   "cell_type": "markdown",
   "metadata": {},
   "source": [
    "# IoU $ \\ge $ 0.95"
   ]
  },
  {
   "cell_type": "code",
   "execution_count": 14,
   "metadata": {},
   "outputs": [
    {
     "name": "stdout",
     "output_type": "stream",
     "text": [
      "Cantidad de imagenes con IoU > 0.95: 912\n"
     ]
    }
   ],
   "source": [
    "print(f\"Cantidad de imagenes con IoU > 0.95: {df[df['mean iou'] > .95].shape[0]}\")"
   ]
  },
  {
   "cell_type": "code",
   "execution_count": null,
   "metadata": {},
   "outputs": [],
   "source": []
  }
 ],
 "metadata": {
  "kernelspec": {
   "display_name": "Python 3",
   "language": "python",
   "name": "python3"
  },
  "language_info": {
   "codemirror_mode": {
    "name": "ipython",
    "version": 3
   },
   "file_extension": ".py",
   "mimetype": "text/x-python",
   "name": "python",
   "nbconvert_exporter": "python",
   "pygments_lexer": "ipython3",
   "version": "3.7.3"
  }
 },
 "nbformat": 4,
 "nbformat_minor": 2
}
